{
 "cells": [
  {
   "cell_type": "code",
   "execution_count": 1,
   "metadata": {},
   "outputs": [
    {
     "data": {
      "application/vnd.jupyter.widget-view+json": {
       "model_id": "2191157c34cd4a959ee1a333a859241e",
       "version_major": 2,
       "version_minor": 0
      },
      "text/plain": [
       "Dropdown(description='Sample:', index=19, options=(0, 1, 2, 3, 4, 5, 6, 7, 8, 9, 10, 11, 12, 13, 14, 15, 16, 1…"
      ]
     },
     "metadata": {},
     "output_type": "display_data"
    },
    {
     "data": {
      "application/vnd.jupyter.widget-view+json": {
       "model_id": "2a7db1f859814bbcbb967aaa3394ed0f",
       "version_major": 2,
       "version_minor": 0
      },
      "text/plain": [
       "RadioButtons(description='Attribute:', index=3, options=('Appearance', 'Aroma', 'Palate', 'Taste', 'Overall'),…"
      ]
     },
     "metadata": {},
     "output_type": "display_data"
    },
    {
     "data": {
      "application/vnd.jupyter.widget-view+json": {
       "model_id": "fa660f565640453e9176f0fbdfbb9cea",
       "version_major": 2,
       "version_minor": 0
      },
      "text/plain": [
       "HBox(children=(Label(value='Target: 0.9', layout=Layout(margin='0px 10px 0px 0px')), Label(value='Prediction: …"
      ]
     },
     "metadata": {},
     "output_type": "display_data"
    },
    {
     "data": {
      "text/html": [
       "<span style=\"background:rgba(255,0,0,6.3691008e-09)\">i</span><span style=\"background:rgba(255,0,0,2.41897019e-08)\"> </span><span style=\"background:rgba(255,0,0,4.2010303e-08)\">had</span><span style=\"background:rgba(255,0,0,4.3724334515e-06)\"> </span><span style=\"background:rgba(255,0,0,8.7028566e-06)\">a</span><span style=\"background:rgba(255,0,0,0.0008182906283000001)\"> </span><span style=\"background:rgba(255,0,0,0.0016278784)\">few</span><span style=\"background:rgba(255,0,0,0.00081431293431)\"> </span><span style=\"background:rgba(255,0,0,7.4746862e-07)\">pints</span><span style=\"background:rgba(255,0,0,3.7373610453195e-07)\"> </span><span style=\"background:rgba(255,0,0,3.5890639e-12)\">of</span><span style=\"background:rgba(255,0,0,2.7131321950000003e-11)\"> </span><span style=\"background:rgba(255,0,0,5.067358e-11)\">this</span><span style=\"background:rgba(255,0,0,3.04966135e-11)\"> </span><span style=\"background:rgba(255,0,0,1.0319647e-11)\">at</span><span style=\"background:rgba(255,0,0,1.29133435e-11)\"> </span><span style=\"background:rgba(255,0,0,1.550704e-11)\">the</span><span style=\"background:rgba(255,0,0,6.8971675e-11)\"> </span><span style=\"background:rgba(255,0,0,1.2243631e-10)\">renaissance</span><span style=\"background:rgba(255,0,0,6.161798607499999e-11)\"> </span><span style=\"background:rgba(255,0,0,7.9966215e-13)\">cafe</span><span style=\"background:rgba(255,0,0,1.9106896575e-11)\"> </span><span style=\"background:rgba(255,0,0,3.7414131e-11)\">here</span><span style=\"background:rgba(255,0,0,9.8834260655e-09)\"> </span><span style=\"background:rgba(255,0,0,1.9729438e-08)\">in</span><span style=\"background:rgba(255,0,0,1.1758090700000001e-08)\"> </span><span style=\"background:rgba(255,0,0,3.7867434e-09)\">toronto</span><span style=\"background:rgba(255,0,0,1.2825106717e-06)\"> </span><span style=\"background:rgba(255,0,0,2.5612346e-06)\">.</span><span style=\"background:rgba(255,0,0,0.0088164761173)\"> </span><span style=\"background:rgba(255,0,0,0.017630391)\">it</span><span style=\"background:rgba(255,0,0,0.1276180505)\"> </span><span style=\"background:rgba(255,0,0,0.23760571)\">'s</span><span style=\"background:rgba(255,0,0,0.581790965)\"> </span><span style=\"background:rgba(255,0,0,0.92597622)\">certainly</span><span style=\"background:rgba(255,0,0,0.926857415)\"> </span><span style=\"background:rgba(255,0,0,0.92773861)\">a</span><span style=\"background:rgba(255,0,0,0.9637356699999999)\"> </span><span style=\"background:rgba(255,0,0,0.99973273)\">beautiful</span><span style=\"background:rgba(255,0,0,0.784571675)\"> </span><span style=\"background:rgba(255,0,0,0.56941062)\">looking</span><span style=\"background:rgba(255,0,0,0.344181125)\"> </span><span style=\"background:rgba(255,0,0,0.11895163)\">beer</span><span style=\"background:rgba(255,0,0,0.06293989445)\"> </span><span style=\"background:rgba(255,0,0,0.0069281589)\">-</span><span style=\"background:rgba(255,0,0,0.0068962979)\"> </span><span style=\"background:rgba(255,0,0,0.0068644369)\">a</span><span style=\"background:rgba(255,0,0,0.01638913295)\"> </span><span style=\"background:rgba(255,0,0,0.025913829)\">lovely</span><span style=\"background:rgba(255,0,0,0.012957234493035)\"> </span><span style=\"background:rgba(255,0,0,6.3998607e-07)\">cloudy</span><span style=\"background:rgba(255,0,0,3.39946718e-07)\"> </span><span style=\"background:rgba(255,0,0,3.9907366e-08)\">yellow</span><span style=\"background:rgba(255,0,0,1.9962536772e-08)\"> </span><span style=\"background:rgba(255,0,0,1.7707544e-11)\">.</span><span style=\"background:rgba(255,0,0,9.33563861e-12)\"> </span><span style=\"background:rgba(255,0,0,9.6373322e-13)\">lots</span><span style=\"background:rgba(255,0,0,8.389658109999999e-12)\"> </span><span style=\"background:rgba(255,0,0,1.5815583e-11)\">of</span><span style=\"background:rgba(255,0,0,1.7420144415e-09)\"> </span><span style=\"background:rgba(255,0,0,3.4682133e-09)\">carbonation</span><span style=\"background:rgba(255,0,0,4.1654675500000006e-09)\"> </span><span style=\"background:rgba(255,0,0,4.8627218e-09)\">,</span><span style=\"background:rgba(255,0,0,0.0035981047813609)\"> </span><span style=\"background:rgba(255,0,0,0.0071962047)\">yet</span><span style=\"background:rgba(255,0,0,0.0073618699999999995)\"> </span><span style=\"background:rgba(255,0,0,0.0075275353)\">not</span><span style=\"background:rgba(255,0,0,0.00721096525)\"> </span><span style=\"background:rgba(255,0,0,0.0068943952)\">much</span><span style=\"background:rgba(255,0,0,0.00486055995)\"> </span><span style=\"background:rgba(255,0,0,0.0028267247)\">head</span><span style=\"background:rgba(255,0,0,0.00451145765)\"> </span><span style=\"background:rgba(255,0,0,0.0061961906)\">to</span><span style=\"background:rgba(255,0,0,0.00603483385)\"> </span><span style=\"background:rgba(255,0,0,0.0058734771)\">speak</span><span style=\"background:rgba(255,0,0,0.002947986782)\"> </span><span style=\"background:rgba(255,0,0,2.2496464e-05)\">of</span><span style=\"background:rgba(255,0,0,0.000326014802)\"> </span><span style=\"background:rgba(255,0,0,0.00062953314)\">.</span><span style=\"background:rgba(255,0,0,0.00701836357)\"> </span><span style=\"background:rgba(255,0,0,0.013407194)\">not</span><span style=\"background:rgba(255,0,0,0.010510492350000001)\"> </span><span style=\"background:rgba(255,0,0,0.0076137907)\">much</span><span style=\"background:rgba(255,0,0,0.00716874285)\"> </span><span style=\"background:rgba(255,0,0,0.006723695)\">smell</span><span style=\"background:rgba(255,0,0,0.006531235099999999)\"> </span><span style=\"background:rgba(255,0,0,0.0063387752)\">to</span><span style=\"background:rgba(255,0,0,0.0062112287)\"> </span><span style=\"background:rgba(255,0,0,0.0060836822)\">speak</span><span style=\"background:rgba(255,0,0,0.0030477456895)\"> </span><span style=\"background:rgba(255,0,0,1.1809179e-05)\">of</span><span style=\"background:rgba(255,0,0,7.88684865e-06)\"> </span><span style=\"background:rgba(255,0,0,3.9645183e-06)\">.</span><span style=\"background:rgba(255,0,0,2.472570245e-06)\"> </span><span style=\"background:rgba(255,0,0,9.8062219e-07)\">what</span><span style=\"background:rgba(255,0,0,5.19330058e-07)\"> </span><span style=\"background:rgba(255,0,0,5.8037926e-08)\">is</span><span style=\"background:rgba(255,0,0,1.4549099799999998e-07)\"> </span><span style=\"background:rgba(255,0,0,2.3294407e-07)\">there</span><span style=\"background:rgba(255,0,0,0.000766370572035)\"> </span><span style=\"background:rgba(255,0,0,0.0015325082)\">is</span><span style=\"background:rgba(255,0,0,0.0042006495)\"> </span><span style=\"background:rgba(255,0,0,0.0068687908)\">slightly</span><span style=\"background:rgba(255,0,0,0.00690567865)\"> </span><span style=\"background:rgba(255,0,0,0.0069425665)\">fruity</span><span style=\"background:rgba(255,0,0,0.0059973369499999995)\"> </span><span style=\"background:rgba(255,0,0,0.0050521074)\">.</span><span style=\"background:rgba(255,0,0,0.0062438536)\"> </span><span style=\"background:rgba(255,0,0,0.0074355998)\">it</span><span style=\"background:rgba(255,0,0,0.0144564839)\"> </span><span style=\"background:rgba(255,0,0,0.021477368)\">has</span><span style=\"background:rgba(255,0,0,0.031097490499999998)\"> </span><span style=\"background:rgba(255,0,0,0.040717613)\">a</span><span style=\"background:rgba(255,0,0,0.12448925150000001)\"> </span><span style=\"background:rgba(255,0,0,0.20826089)\">fairly</span><span style=\"background:rgba(255,0,0,0.471367445)\"> </span><span style=\"background:rgba(255,0,0,0.734474)\">thick</span><span style=\"background:rgba(255,0,0,0.37120313405)\"> </span><span style=\"background:rgba(255,0,0,0.0079322681)\">mouthfeel</span><span style=\"background:rgba(255,0,0,0.003966171729726)\"> </span><span style=\"background:rgba(255,0,0,7.5359452e-08)\">and</span><span style=\"background:rgba(255,0,0,2.3435314726e-05)\"> </span><span style=\"background:rgba(255,0,0,4.679527e-05)\">a</span><span style=\"background:rgba(255,0,0,0.00045580663)\"> </span><span style=\"background:rgba(255,0,0,0.00086481799)\">light</span><span style=\"background:rgba(255,0,0,0.002243740345)\"> </span><span style=\"background:rgba(255,0,0,0.0036226627)\">fruity</span><span style=\"background:rgba(255,0,0,0.0028428574999999996)\"> </span><span style=\"background:rgba(255,0,0,0.0020630523)\">,</span><span style=\"background:rgba(255,0,0,0.02692277415)\"> </span><span style=\"background:rgba(255,0,0,0.051782496)\">floral</span><span style=\"background:rgba(255,0,0,0.453073803)\"> </span><span style=\"background:rgba(255,0,0,0.85436511)\">taste</span><span style=\"background:rgba(255,0,0,0.905631305)\"> </span><span style=\"background:rgba(255,0,0,0.9568975)\">.</span><span style=\"background:rgba(255,0,0,0.97421688)\"> </span><span style=\"background:rgba(255,0,0,0.99153626)\">i</span><span style=\"background:rgba(255,0,0,0.995618195)\"> </span><span style=\"background:rgba(255,0,0,0.99970013)\">'ll</span><span style=\"background:rgba(255,0,0,0.9865233)\"> </span><span style=\"background:rgba(255,0,0,0.97334647)\">definitely</span><span style=\"background:rgba(255,0,0,0.917147815)\"> </span><span style=\"background:rgba(255,0,0,0.86094916)\">be</span><span style=\"background:rgba(255,0,0,0.65308073)\"> </span><span style=\"background:rgba(255,0,0,0.4452123)\">having</span><span style=\"background:rgba(255,0,0,0.2260663421)\"> </span><span style=\"background:rgba(255,0,0,0.0069203842)\">more</span><span style=\"background:rgba(255,0,0,0.0059674438)\"> </span><span style=\"background:rgba(255,0,0,0.0050145034)\">of</span><span style=\"background:rgba(255,0,0,0.005720488750000001)\"> </span><span style=\"background:rgba(255,0,0,0.0064264741)\">these</span><span style=\"background:rgba(255,0,0,0.00663628315)\"> </span><span style=\"background:rgba(255,0,0,0.0068460922)\">in</span><span style=\"background:rgba(255,0,0,0.0068887609499999995)\"> </span><span style=\"background:rgba(255,0,0,0.0069314297)\">the</span><span style=\"background:rgba(255,0,0,0.00693969985)\"> </span><span style=\"background:rgba(255,0,0,0.00694797)\">future</span><span style=\"background:rgba(255,0,0,0.0034824471770000002)\"> </span><span style=\"background:rgba(255,0,0,1.6924354e-05)\">.</span>"
      ],
      "text/plain": [
       "<IPython.core.display.HTML object>"
      ]
     },
     "metadata": {},
     "output_type": "display_data"
    }
   ],
   "source": [
    "import rationale"
   ]
  },
  {
   "cell_type": "code",
   "execution_count": null,
   "metadata": {},
   "outputs": [],
   "source": []
  }
 ],
 "metadata": {
  "kernelspec": {
   "display_name": "Python 3",
   "language": "python",
   "name": "python3"
  },
  "language_info": {
   "codemirror_mode": {
    "name": "ipython",
    "version": 3
   },
   "file_extension": ".py",
   "mimetype": "text/x-python",
   "name": "python",
   "nbconvert_exporter": "python",
   "pygments_lexer": "ipython3",
   "version": "3.7.3rc1"
  }
 },
 "nbformat": 4,
 "nbformat_minor": 2
}
